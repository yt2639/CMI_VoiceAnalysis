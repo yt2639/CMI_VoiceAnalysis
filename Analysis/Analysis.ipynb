{
 "cells": [
  {
   "cell_type": "code",
   "execution_count": 21,
   "metadata": {},
   "outputs": [
    {
     "name": "stdout",
     "output_type": "stream",
     "text": [
      "Help on package vbdiar:\n",
      "\n",
      "NAME\n",
      "    vbdiar\n",
      "\n",
      "PACKAGE CONTENTS\n",
      "    vb\n",
      "\n",
      "FILE\n",
      "    /anaconda3/envs/dlenv/lib/python3.6/site-packages/vbdiar/__init__.py\n",
      "\n",
      "\n"
     ]
    }
   ],
   "source": [
    "import vbdiar\n"
   ]
  },
  {
   "cell_type": "markdown",
   "metadata": {},
   "source": [
    "# OpenSMILE"
   ]
  },
  {
   "cell_type": "markdown",
   "metadata": {},
   "source": [
    "### C configure I input O output\n",
    "\n",
    "SMILExtract -C config/demo/demo1_energy.conf -I wav_samples/speech01.wav -O speech01.energy.csv"
   ]
  },
  {
   "cell_type": "code",
   "execution_count": null,
   "metadata": {},
   "outputs": [],
   "source": [
    "import numpy as np\n",
    "import os\n",
    "from sklearn.model_selection import train_test_split\n",
    "from sklearn.svm import SVC\n",
    "from sklearn.metrics import confusion_matrix\n",
    "import matplotlib.pyplot as plt\n",
    "\n"
   ]
  },
  {
   "cell_type": "code",
   "execution_count": 33,
   "metadata": {
    "scrolled": true
   },
   "outputs": [],
   "source": [
    "# # 提取\n",
    "# f=open('/Users/shane/Downloads/opensmile-2.3.0/dutch_vowels.txt','r')\n",
    "# # 去最后一行\n",
    "# last_line=f.readlines()[-1]\n",
    "# f.close()\n",
    "# features=last_line.split(',')\n",
    "# # 去掉第一个和最后一个元素\n",
    "# # 得到features\n",
    "# features=features[1:-1]\n"
   ]
  },
  {
   "cell_type": "code",
   "execution_count": 1,
   "metadata": {},
   "outputs": [],
   "source": [
    "# 批量提取\n",
    "patients_audio_path='/Users/shane/Downloads/Hyperfun_dys/Patients'\n",
    "healthy_audio_path='/Users/shane/Downloads/Hyperfun_dys/Healthy'\n",
    "\n",
    "patients_output_path='/Users/shane/Downloads/Hyperfun_dys/out/Patients'\n",
    "healthy_output_path='/Users/shane/Downloads/Hyperfun_dys/out/Healthy'\n",
    "\n",
    "patients_audio_list=os.listdir(patients_audio_path)\n",
    "healthy_audio_list=os.listdir(healthy_audio_path)\n"
   ]
  },
  {
   "cell_type": "code",
   "execution_count": 6,
   "metadata": {},
   "outputs": [],
   "source": [
    "for audio in patients_audio_list:\n",
    "    if audio[-4:]=='.wav':\n",
    "        this_path_input=os.path.join(patients_audio_path,audio)\n",
    "        this_path_output=os.path.join(patients_output_path,audio[:-4]+'.txt')\n",
    "        cmd='cd /Users/shane/Downloads/opensmile-2.3.0 && SMILExtract -C config/IS09_emotion.conf -I '+this_path_input+' -O '+this_path_output\n",
    "    os.system(cmd)"
   ]
  },
  {
   "cell_type": "code",
   "execution_count": 7,
   "metadata": {},
   "outputs": [],
   "source": [
    "for audio in healthy_audio_list:\n",
    "    if audio[-4:]=='.wav':\n",
    "        this_path_input=os.path.join(healthy_audio_path,audio)\n",
    "        this_path_output=os.path.join(healthy_output_path,audio[:-4]+'.txt')\n",
    "        cmd='cd /Users/shane/Downloads/opensmile-2.3.0 && SMILExtract -C config/IS09_emotion.conf -I '+this_path_input+' -O '+this_path_output\n",
    "    os.system(cmd)"
   ]
  },
  {
   "cell_type": "code",
   "execution_count": 9,
   "metadata": {
    "scrolled": true
   },
   "outputs": [
    {
     "data": {
      "text/plain": [
       "['819-iau.txt',\n",
       " '1888-iau.txt',\n",
       " '2463-iau.txt',\n",
       " '692-iau.txt',\n",
       " '854-iau.txt',\n",
       " '1118-iau.txt',\n",
       " '1891-iau.txt',\n",
       " '363-iau.txt',\n",
       " '1816-iau.txt',\n",
       " '934-iau.txt',\n",
       " '1669-iau.txt',\n",
       " '1222-iau.txt',\n",
       " '1204-iau.txt',\n",
       " '1993-iau.txt',\n",
       " '1745-iau.txt',\n",
       " '1660-iau.txt',\n",
       " '827-iau.txt',\n",
       " '1282-iau.txt',\n",
       " '1196-iau.txt',\n",
       " '1602-iau.txt',\n",
       " '1299-iau.txt',\n",
       " '1431-iau.txt',\n",
       " '1822-iau.txt',\n",
       " '1280-iau.txt',\n",
       " '1113-iau.txt',\n",
       " '2363-iau.txt',\n",
       " '1442-iau.txt',\n",
       " '1929-iau.txt',\n",
       " '1044-iau.txt',\n",
       " '1794-iau.txt',\n",
       " '2425-iau.txt',\n",
       " '2572-iau.txt',\n",
       " '1608-iau.txt',\n",
       " '1406-iau.txt',\n",
       " '2604-iau.txt',\n",
       " '881-iau.txt',\n",
       " '1471-iau.txt',\n",
       " '1800-iau.txt',\n",
       " '1189-iau.txt',\n",
       " '2420-iau.txt',\n",
       " '1327-iau.txt',\n",
       " '1562-iau.txt',\n",
       " '1051-iau.txt',\n",
       " '898-iau.txt',\n",
       " '1284-iau.txt',\n",
       " '1294-iau.txt',\n",
       " '1468-iau.txt',\n",
       " '1682-iau.txt',\n",
       " '1753-iau.txt',\n",
       " '1050-iau.txt',\n",
       " '1648-iau.txt',\n",
       " '1887-iau.txt',\n",
       " '1310-iau.txt',\n",
       " '144-iau.txt',\n",
       " '669-iau.txt',\n",
       " '1607-iau.txt',\n",
       " '2589-iau.txt',\n",
       " '1379-iau.txt',\n",
       " '1394-iau.txt',\n",
       " '1861-iau.txt',\n",
       " '1944-iau.txt',\n",
       " '1792-iau.txt',\n",
       " '2590-iau.txt',\n",
       " '1643-iau.txt',\n",
       " '2603-iau.txt',\n",
       " '1569-iau.txt',\n",
       " '2399-iau.txt',\n",
       " '499-iau.txt',\n",
       " '2374-iau.txt',\n",
       " '2492-iau.txt']"
      ]
     },
     "execution_count": 9,
     "metadata": {},
     "output_type": "execute_result"
    }
   ],
   "source": [
    "patients_feature_list=os.listdir(patients_output_path)\n",
    "healthy_feature_list=os.listdir(healthy_output_path)\n",
    "patients_feature_list\n"
   ]
  },
  {
   "cell_type": "code",
   "execution_count": 55,
   "metadata": {},
   "outputs": [],
   "source": [
    "patient_features=[]\n",
    "i=0\n",
    "for path in patients_feature_list:\n",
    "    if path[-4:]=='.txt':\n",
    "        f=open(patients_output_path+'/'+path,'r')\n",
    "        last_line=f.readlines()[-1]\n",
    "        f.close()\n",
    "        features=last_line.split(',')\n",
    "        features=features[1:-1]\n",
    "        patient_features.append(features)\n",
    "        i+=1\n",
    "patient_features=np.reshape(patient_features, [i, len(features)])\n",
    "patient_labels=np.zeros([i, 1])\n",
    "patient=np.column_stack([patient_features, patient_labels])\n"
   ]
  },
  {
   "cell_type": "code",
   "execution_count": 56,
   "metadata": {},
   "outputs": [],
   "source": [
    "healthy_features=[]\n",
    "i=0\n",
    "for path in healthy_feature_list:\n",
    "    if path[-4:]=='.txt':\n",
    "        f=open(healthy_output_path+'/'+path,'r')\n",
    "        last_line=f.readlines()[-1]\n",
    "        f.close()\n",
    "        features=last_line.split(',')\n",
    "        features=features[1:-1]\n",
    "        healthy_features.append(features)\n",
    "        i+=1\n",
    "healthy_features=np.reshape(healthy_features, [i, len(features)])\n",
    "healthy_labels=np.ones([i, 1])\n",
    "healthy=np.column_stack([healthy_features, healthy_labels])"
   ]
  },
  {
   "cell_type": "code",
   "execution_count": 61,
   "metadata": {},
   "outputs": [
    {
     "name": "stdout",
     "output_type": "stream",
     "text": [
      "(70, 384) (56, 384) (70, 385) (56, 385) (126, 385)\n"
     ]
    }
   ],
   "source": [
    "all_data=np.row_stack([patient, healthy])\n",
    "print(patient_features.shape, healthy_features.shape, patient.shape, healthy.shape, all_data.shape)"
   ]
  },
  {
   "cell_type": "code",
   "execution_count": 70,
   "metadata": {},
   "outputs": [
    {
     "name": "stdout",
     "output_type": "stream",
     "text": [
      "(100, 384) (26, 384) (100,) (26,)\n"
     ]
    }
   ],
   "source": [
    "X_train, X_test, y_train, y_test=train_test_split(all_data[:,:-1], all_data[:,-1],\n",
    "                                                  test_size=0.2, random_state=2019, shuffle=True)\n",
    "print(X_train.shape, X_test.shape, y_train.shape, y_test.shape)\n"
   ]
  },
  {
   "cell_type": "code",
   "execution_count": 128,
   "metadata": {},
   "outputs": [
    {
     "data": {
      "text/plain": [
       "SVC(C=10, cache_size=200, class_weight=None, coef0=0.0,\n",
       "  decision_function_shape='ovr', degree=5, gamma='scale', kernel='poly',\n",
       "  max_iter=-1, probability=False, random_state=None, shrinking=True,\n",
       "  tol=0.001, verbose=False)"
      ]
     },
     "execution_count": 128,
     "metadata": {},
     "output_type": "execute_result"
    }
   ],
   "source": [
    "clf = SVC(C=1,gamma='scale', kernel='poly', degree=5)\n",
    "clf.fit(X_train, y_train)\n"
   ]
  },
  {
   "cell_type": "code",
   "execution_count": 129,
   "metadata": {},
   "outputs": [
    {
     "data": {
      "text/plain": [
       "array([[10,  4],\n",
       "       [ 8,  4]])"
      ]
     },
     "execution_count": 129,
     "metadata": {},
     "output_type": "execute_result"
    }
   ],
   "source": [
    "pred=clf.predict(X_test)\n",
    "# row: true; col: pred (true, pred)\n",
    "confusion_matrix(y_test, pred)"
   ]
  },
  {
   "cell_type": "code",
   "execution_count": 123,
   "metadata": {},
   "outputs": [
    {
     "data": {
      "text/plain": [
       "0.5"
      ]
     },
     "execution_count": 123,
     "metadata": {},
     "output_type": "execute_result"
    }
   ],
   "source": [
    "clf.score(X_test, y_test)"
   ]
  },
  {
   "cell_type": "code",
   "execution_count": null,
   "metadata": {},
   "outputs": [],
   "source": []
  },
  {
   "cell_type": "code",
   "execution_count": null,
   "metadata": {},
   "outputs": [],
   "source": []
  },
  {
   "cell_type": "code",
   "execution_count": null,
   "metadata": {},
   "outputs": [],
   "source": []
  },
  {
   "cell_type": "markdown",
   "metadata": {},
   "source": [
    "# Autism"
   ]
  },
  {
   "cell_type": "code",
   "execution_count": 2,
   "metadata": {},
   "outputs": [],
   "source": [
    "import speech_recognition as sr"
   ]
  },
  {
   "cell_type": "code",
   "execution_count": 3,
   "metadata": {},
   "outputs": [],
   "source": [
    "r = sr.Recognizer()\n",
    "sss=sr.AudioFile('../Audio_recog/test.wav')\n",
    "with sss as source:\n",
    "    sss_duration=sss.DURATION # get the time length of the audios\n",
    "    \n",
    "    audio_host_1=r.record(source, duration=6)\n",
    "    audio_guest_1=r.record(source, duration=14)\n",
    "    audio_host_2=r.record(source, duration=19)\n",
    "    audio_guest_2=r.record(source, duration=23)\n",
    "    audio_host_3=r.record(source, duration=17)\n",
    "test_host_1=r.recognize_google(audio_host_1)\n",
    "test_host_2=r.recognize_google(audio_host_2)\n",
    "test_host_3=r.recognize_google(audio_host_3)\n",
    "\n",
    "test_guest_1=r.recognize_google(audio_guest_1)\n",
    "test_guest_2=r.recognize_google(audio_guest_2)\n",
    "\n",
    "# r.recognize_google(audio, language='fr-FR')\n"
   ]
  },
  {
   "cell_type": "code",
   "execution_count": 4,
   "metadata": {},
   "outputs": [
    {
     "name": "stdout",
     "output_type": "stream",
     "text": [
      "79.50512471655328\n",
      "this is scientific American's sixty-second science Einstein celebration songs across the world is the key to a better world in the future climate change social inequality Jeremy Farrar director of the wellcome trust one of the world's biggest non-governmental funders of scientific research earlier today January 23rd he spoke to Scientific American editor and chief Maria dichristina at the world economic Forum in Davos after they both took part in the Global Science Outlook discussion at the four and nobody know myself no air organization welcome no organization is going to solve this on the road and so we've launched a campaign cool together signs can bring together people from around the world to say to stand up for those things you can see video of the entire discussion that took place at Davos earlier today just Google World economic Forum in Davos Global Science outlook for scientific American's sixty-second science I'm Steve mirsky\n",
      "\n",
      " celebration songs across the world is the key to a better world in the future climate change social inequality\n",
      "\n",
      " and nobody know myself no air organization welcome no organization is going to solve this on the road and so we've launched a campaign cool together signs can bring together people from around the world to say to stand up for those things\n"
     ]
    }
   ],
   "source": [
    "print(sss_duration)\n",
    "print(test_host_1,test_guest_1, test_host_2,test_guest_2, test_host_3)\n",
    "print('\\n',test_guest_1)\n",
    "print('\\n',test_guest_2)"
   ]
  },
  {
   "cell_type": "markdown",
   "metadata": {},
   "source": [
    "### Use micphone input"
   ]
  },
  {
   "cell_type": "code",
   "execution_count": 49,
   "metadata": {},
   "outputs": [
    {
     "name": "stdout",
     "output_type": "stream",
     "text": [
      "Google Speech Recognition thinks you said hello\n"
     ]
    }
   ],
   "source": [
    "# !pip install pyaudio\n",
    "# !brew install portaudio\n",
    "# !python -m speech_recognition\n",
    "r = sr.Recognizer()\n",
    "mic = sr.Microphone()\n",
    "with mic as source:\n",
    "    r.adjust_for_ambient_noise(source)\n",
    "    audio = r.listen(source)\n",
    "try:\n",
    "    print(\"Google Speech Recognition thinks you said \" + r.recognize_google(audio))\n",
    "except sr.UnknownValueError:\n",
    "    print(\"Google Speech Recognition could not understand audio\")\n",
    "except sr.RequestError as e:\n",
    "    print(\"Could not request results from Google Speech Recognition service; {0}\".format(e))"
   ]
  },
  {
   "cell_type": "markdown",
   "metadata": {},
   "source": [
    "## Adult word count (AWC)"
   ]
  },
  {
   "cell_type": "code",
   "execution_count": 65,
   "metadata": {},
   "outputs": [],
   "source": [
    "# import nltk\n",
    "# nltk.download()"
   ]
  },
  {
   "cell_type": "code",
   "execution_count": 54,
   "metadata": {},
   "outputs": [
    {
     "name": "stdout",
     "output_type": "stream",
     "text": [
      "40\n"
     ]
    }
   ],
   "source": [
    "# Normal people say 1000 words more than ASD patients\n",
    "from nltk.corpus import words\n",
    "from nltk.tokenize import word_tokenize\n",
    "word_count=[]\n",
    "word_list = words.words()\n",
    "for w in word_tokenize(test_guest_2):\n",
    "    word_count.append(w in word_list)\n",
    "    \n",
    "print(sum(word_count))\n"
   ]
  },
  {
   "cell_type": "markdown",
   "metadata": {},
   "source": [
    "## Frequency of vocalizations"
   ]
  },
  {
   "cell_type": "code",
   "execution_count": 75,
   "metadata": {},
   "outputs": [
    {
     "data": {
      "text/plain": [
       "1.9493670886075949"
      ]
     },
     "execution_count": 75,
     "metadata": {},
     "output_type": "execute_result"
    }
   ],
   "source": [
    "# total_words=len(test_host_1.split())+len(test_guest_1.split())+len(test_host_2.split())+len(test_guest_2.split())+len(test_host_3.split())\n",
    "# print('total words: ', total_words)\n",
    "# frequency_vocal=total_words/sss_duration\n",
    "# frequency_vocal # words/s"
   ]
  },
  {
   "cell_type": "code",
   "execution_count": 93,
   "metadata": {},
   "outputs": [
    {
     "data": {
      "image/png": "[encoded data removed]",
      "text/plain": [
       "<Figure size 432x288 with 1 Axes>"
      ]
     },
     "metadata": {
      "needs_background": "light"
     },
     "output_type": "display_data"
    }
   ],
   "source": [
    "from collections import Counter\n",
    "word_counter = Counter()\n",
    "text_test_guest_2=word_tokenize(test_guest_2)\n",
    "for w in text_test_guest_2:\n",
    "    word_counter.update(w.split())\n",
    "# print(word_counter)\n",
    "\n",
    "ori_tagged=nltk.pos_tag(text_test_guest_2)\n",
    "\n",
    "tag_fd = nltk.FreqDist(tag for (word, tag) in ori_tagged)\n",
    "tag_fd.plot(cumulative=True)"
   ]
  },
  {
   "cell_type": "markdown",
   "metadata": {},
   "source": [
    "## Conversational turns"
   ]
  },
  {
   "cell_type": "code",
   "execution_count": 98,
   "metadata": {},
   "outputs": [
    {
     "data": {
      "text/plain": [
       "<tarfile.TarFile at 0x1a1e4c0b70>"
      ]
     },
     "execution_count": 98,
     "metadata": {},
     "output_type": "execute_result"
    }
   ],
   "source": [
    "import tarfile\n",
    "tar = tarfile.open('/Users/shane/Downloads/VBDiarization/models/x-vectors/0003_sre16_v2_1a.tar.gz', 'r:gz')\n",
    "tar.extractall('/Users/shane/Downloads/VBDiarization/models/x-vectors')\n",
    "tar.close()"
   ]
  },
  {
   "cell_type": "code",
   "execution_count": null,
   "metadata": {},
   "outputs": [],
   "source": []
  },
  {
   "cell_type": "code",
   "execution_count": null,
   "metadata": {},
   "outputs": [],
   "source": []
  },
  {
   "cell_type": "code",
   "execution_count": null,
   "metadata": {},
   "outputs": [],
   "source": []
  },
  {
   "cell_type": "code",
   "execution_count": null,
   "metadata": {},
   "outputs": [],
   "source": []
  },
  {
   "cell_type": "code",
   "execution_count": null,
   "metadata": {},
   "outputs": [],
   "source": []
  },
  {
   "cell_type": "code",
   "execution_count": null,
   "metadata": {},
   "outputs": [],
   "source": []
  },
  {
   "cell_type": "code",
   "execution_count": null,
   "metadata": {},
   "outputs": [],
   "source": []
  },
  {
   "cell_type": "code",
   "execution_count": null,
   "metadata": {},
   "outputs": [],
   "source": []
  },
  {
   "cell_type": "code",
   "execution_count": null,
   "metadata": {},
   "outputs": [],
   "source": []
  },
  {
   "cell_type": "code",
   "execution_count": null,
   "metadata": {},
   "outputs": [],
   "source": []
  },
  {
   "cell_type": "code",
   "execution_count": null,
   "metadata": {},
   "outputs": [],
   "source": []
  },
  {
   "cell_type": "code",
   "execution_count": null,
   "metadata": {},
   "outputs": [],
   "source": []
  },
  {
   "cell_type": "code",
   "execution_count": 41,
   "metadata": {},
   "outputs": [],
   "source": [
    "import sidekit"
   ]
  },
  {
   "cell_type": "code",
   "execution_count": 45,
   "metadata": {},
   "outputs": [
    {
     "data": {
      "text/plain": [
       "True"
      ]
     },
     "execution_count": 45,
     "metadata": {},
     "output_type": "execute_result"
    }
   ],
   "source": [
    "idmap = sidekit.IdMap()\n",
    "idmap.leftids = np.array([\"host\", \"guest\", \"host\", \"guest\", \"host\"])\n",
    "idmap.rightids = np.array([\"segment_1\", \"segment_2\", \"segment_3\", \"segment_4\", \"segment_5\"])\n",
    "idmap.start = np.empty((5), dtype=\"|O\")\n",
    "idmap.stop = np.empty((5), dtype=\"|O\")\n",
    "\n",
    "idmap.validate()"
   ]
  },
  {
   "cell_type": "code",
   "execution_count": 47,
   "metadata": {},
   "outputs": [
    {
     "data": {
      "text/plain": [
       "True"
      ]
     },
     "execution_count": 47,
     "metadata": {},
     "output_type": "execute_result"
    }
   ],
   "source": [
    "ndx = sidekit.Ndx()\n",
    "ndx.modelset = np.array([\"host\", \"guest\"])\n",
    "ndx.segset = np.array([\"segment_1\", \"segment_2\", \"segment_3\", \"segment_4\", \"segment_5\"])\n",
    "ndx.trialmask = np.ones((2,5), dtype='bool')\n",
    "\n",
    "ndx.validate()"
   ]
  },
  {
   "cell_type": "code",
   "execution_count": 49,
   "metadata": {},
   "outputs": [
    {
     "data": {
      "text/plain": [
       "True"
      ]
     },
     "execution_count": 49,
     "metadata": {},
     "output_type": "execute_result"
    }
   ],
   "source": [
    "key = sidekit.Key()\n",
    "key.modelset = ndx.modelset\n",
    "key.segset = ndx.segset\n",
    "key.tar = np.zeros((2,5), dtype='bool')\n",
    "key.tar[0, 0] = True\n",
    "key.tar[0, 2] = True\n",
    "key.tar[0, 4] = True\n",
    "key.tar[1, 1] = True\n",
    "key.tar[1, 3] = True\n",
    "\n",
    "key.non = np.zeros((2,5), dtype='bool')\n",
    "key.tar[0, 1] = True\n",
    "key.tar[0, 3] = True\n",
    "key.non[1, 0] = True\n",
    "key.tar[1, 2] = True\n",
    "key.tar[1, 4] = True\n",
    "\n",
    "key.validate()"
   ]
  },
  {
   "cell_type": "code",
   "execution_count": 53,
   "metadata": {
    "collapsed": true
   },
   "outputs": [
    {
     "name": "stdout",
     "output_type": "stream",
     "text": [
      "[[-7.322996   -0.8414533  -1.2970357  -0.62701106 -0.6092133 ]\n",
      " [-6.772664   -1.0545946  -1.2161614   0.8550212   1.1802043 ]\n",
      " [-9.7936325  -1.4801264  -0.95820415 -1.136696    0.6637646 ]\n",
      " [-7.2524276  -0.9577496  -3.3306034  -1.9414728  -0.514241  ]\n",
      " [-6.023513   -1.2433183  -1.077223   -0.35707796  0.05677592]]\n",
      "[[-7.322996   -0.8414533  -1.2970357  -0.62701106 -0.6092133 ]\n",
      " [-6.772664   -1.0545946  -1.2161614   0.8550212   1.1802043 ]\n",
      " [-9.7936325  -1.4801264  -0.95820415 -1.136696    0.6637646 ]\n",
      " [-7.2524276  -0.9577496  -3.3306034  -1.9414728  -0.514241  ]\n",
      " [-6.023513   -1.2433183  -1.077223   -0.35707796  0.05677592]]\n",
      "dans add_show_per_centil, cep = [[-7.322996   -0.8414533  -1.2970357  -0.62701106 -0.6092133 ]\n",
      " [-6.772664   -1.0545946  -1.2161614   0.8550212   1.1802043 ]\n",
      " [-9.7936325  -1.4801264  -0.95820415 -1.136696    0.6637646 ]\n",
      " [-7.2524276  -0.9577496  -3.3306034  -1.9414728  -0.514241  ]\n",
      " [-6.023513   -1.2433183  -1.077223   -0.35707796  0.05677592]]\n",
      "dataset_id = test/cep\n",
      "data.shape = (43825, 20)\n",
      "data.min, max = -26.124210357666016, 25.299726486206055\n",
      "data.mean()= 0.36743679642677307, data.std() = 4.153353691101074\n",
      "p0, p25, p75, p100 = -4.000369071960449, -0.5780707001686096, 0.46646079421043396, 2.858574151992798\n",
      "dans _add_percentile_dataset\n",
      " [[  9 212  36 210  58]\n",
      " [ 10 211  37 221 101]\n",
      " [  0 208  38 206  80]\n",
      " [  9 211  27 199  59]\n",
      " [ 13 210  37 212  63]]\n",
      "dataset_id = test/energy\n",
      "data.shape = (43825,)\n",
      "data.min, max = -12.782082557678223, 41.61527633666992\n",
      "data.mean()= 33.8968505859375, data.std() = 4.241082668304443\n",
      "p0, p25, p75, p100 = -12.782082557678223, 32.88917922973633, 35.78168487548828, 41.61527633666992\n",
      "dans _add_percentile_dataset\n",
      " [[0]\n",
      " [1]\n",
      " [0]\n",
      " [0]\n",
      " [0]]\n",
      "dataset_id = test/fb\n",
      "data.shape = (43825, 24)\n",
      "data.min, max = -23.788715362548828, 39.968788146972656\n",
      "data.mean()= 26.553579330444336, data.std() = 5.576833724975586\n",
      "p0, p25, p75, p100 = -17.548973083496094, 17.348779678344727, 17.932703018188477, 23.775957107543945\n",
      "dans _add_percentile_dataset\n",
      " [[3 3 3 3 5]\n",
      " [4 5 3 3 3]\n",
      " [1 1 1 3 4]\n",
      " [2 2 1 4 4]\n",
      " [3 4 5 4 5]]\n"
     ]
    }
   ],
   "source": [
    "extractor = sidekit.FeaturesExtractor(audio_filename_structure=None,\n",
    "                                      feature_filename_structure=None,\n",
    "                                      sampling_frequency=None,\n",
    "                                      lower_frequency=200,\n",
    "                                      higher_frequency=3800,\n",
    "                                      filter_bank=\"log\",\n",
    "                                      filter_bank_size=24,\n",
    "                                      window_size=0.025,\n",
    "                                      shift=0.01,\n",
    "                                      ceps_number=20,\n",
    "                                      vad=\"snr\",\n",
    "                                      snr=40,\n",
    "                                      pre_emphasis=0.97,\n",
    "                                      save_param=[\"vad\", \"energy\", \"cep\", \"fb\"],\n",
    "                                      keep_all_features=True)\n",
    "extractor.save(show=\"test\",\n",
    "               channel=0,\n",
    "               input_audio_filename='/Users/shane/Downloads/Audio_recog/test.wav',\n",
    "               output_feature_filename='/Users/shane/Downloads/Audio_recog/test.h5')"
   ]
  },
  {
   "cell_type": "code",
   "execution_count": 59,
   "metadata": {
    "collapsed": true
   },
   "outputs": [
    {
     "data": {
      "text/plain": [
       "\t show: empty \n",
       "\n",
       "\t input_feature_filename: empty \n",
       "\n",
       "\t feature_filename_structure: /Users/shane/Downloads/Audio_recog/test.h5 \n",
       "\t  \n",
       "\t  \n",
       "\n",
       "\t Post processing options: \n",
       "\t\t mask: [0, 1, 2, 3, 4, 5, 6, 7, 8, 9, 10, 11, 12]  \n",
       "\t\t feat_norm: cmvn \n",
       "\t\t dct_pca: False, dct_pca_config: (12, 12, None) \n",
       "\t\t sdc: False, sdc_config: (1, 3, 7) \n",
       "\t\t delta: True, double_delta: True, delta_filter: [ 0.25  0.5   0.25  0.   -0.25 -0.5  -0.25] \n",
       "\t\t rasta: True \n",
       "\t\t keep_all_features: True "
      ]
     },
     "execution_count": 59,
     "metadata": {},
     "output_type": "execute_result"
    }
   ],
   "source": [
    "server = sidekit.FeaturesServer(features_extractor=None,\n",
    "                                feature_filename_structure='/Users/shane/Downloads/Audio_recog/test.h5',\n",
    "                                sources=None,\n",
    "                                dataset_list=[\"energy\", \"cep\", \"vad\"],\n",
    "                                mask=\"[0-12]\",\n",
    "                                feat_norm=\"cmvn\",\n",
    "                                global_cmvn=None,\n",
    "                                dct_pca=False,\n",
    "                                dct_pca_config=None,\n",
    "                                sdc=False,\n",
    "                                sdc_config=None,\n",
    "                                delta=True,\n",
    "                                double_delta=True,\n",
    "                                delta_filter=None,\n",
    "                                context=None,\n",
    "                                traps_dct_nb=None,\n",
    "                                rasta=True,\n",
    "                                keep_all_features=True)\n",
    "server"
   ]
  },
  {
   "cell_type": "code",
   "execution_count": 58,
   "metadata": {
    "scrolled": true
   },
   "outputs": [
    {
     "data": {
      "text/plain": [
       "\t show: empty \n",
       "\n",
       "\t input_feature_filename: empty \n",
       "\n",
       "\t feature_filename_structure: /Users/shane/Downloads/Audio_recog/test.h5 \n",
       "\t  \n",
       "\t  \n",
       "\n",
       "\t Post processing options: \n",
       "\t\t mask: [0, 1, 2, 3, 4, 5, 6, 7, 8, 9, 10, 11, 12]  \n",
       "\t\t feat_norm: cmvn \n",
       "\t\t dct_pca: False, dct_pca_config: (12, 12, None) \n",
       "\t\t sdc: False, sdc_config: (1, 3, 7) \n",
       "\t\t delta: True, double_delta: True, delta_filter: [ 0.25  0.5   0.25  0.   -0.25 -0.5  -0.25] \n",
       "\t\t rasta: True \n",
       "\t\t keep_all_features: True "
      ]
     },
     "execution_count": 58,
     "metadata": {},
     "output_type": "execute_result"
    }
   ],
   "source": []
  },
  {
   "cell_type": "code",
   "execution_count": null,
   "metadata": {},
   "outputs": [],
   "source": []
  },
  {
   "cell_type": "code",
   "execution_count": null,
   "metadata": {},
   "outputs": [],
   "source": [
    "distrib_nb = 2048 # number of Gaussian distributions for each GMM\n",
    "rank_TV = 400 # Rank of the total variability matrix\n",
    "tv_iteration = 10 # number of iterations to run\n",
    "plda_rk = 400 # rank of the PLDA eigenvoice matrix\n",
    "feature_dir = '/lium/spk1/larcher/mfcc_24/' # directory where to find the features\n",
    "feature_extension = 'h5' # Extension of the feature files\n",
    "nbThread = 10 # Number of parallel process to run"
   ]
  },
  {
   "cell_type": "code",
   "execution_count": null,
   "metadata": {},
   "outputs": [],
   "source": []
  },
  {
   "cell_type": "code",
   "execution_count": null,
   "metadata": {},
   "outputs": [],
   "source": []
  },
  {
   "cell_type": "code",
   "execution_count": null,
   "metadata": {},
   "outputs": [],
   "source": []
  }
 ],
 "metadata": {
  "kernelspec": {
   "display_name": "Python 3",
   "language": "python",
   "name": "python3"
  },
  "language_info": {
   "codemirror_mode": {
    "name": "ipython",
    "version": 3
   },
   "file_extension": ".py",
   "mimetype": "text/x-python",
   "name": "python",
   "nbconvert_exporter": "python",
   "pygments_lexer": "ipython3",
   "version": "3.6.8"
  },
  "toc": {
   "base_numbering": 1,
   "nav_menu": {},
   "number_sections": true,
   "sideBar": true,
   "skip_h1_title": false,
   "title_cell": "Table of Contents",
   "title_sidebar": "Contents",
   "toc_cell": false,
   "toc_position": {},
   "toc_section_display": true,
   "toc_window_display": false
  },
  "varInspector": {
   "cols": {
    "lenName": 16,
    "lenType": 16,
    "lenVar": 40
   },
   "kernels_config": {
    "python": {
     "delete_cmd_postfix": "",
     "delete_cmd_prefix": "del ",
     "library": "var_list.py",
     "varRefreshCmd": "print(var_dic_list())"
    },
    "r": {
     "delete_cmd_postfix": ") ",
     "delete_cmd_prefix": "rm(",
     "library": "var_list.r",
     "varRefreshCmd": "cat(var_dic_list()) "
    }
   },
   "types_to_exclude": [
    "module",
    "function",
    "builtin_function_or_method",
    "instance",
    "_Feature"
   ],
   "window_display": false
  }
 },
 "nbformat": 4,
 "nbformat_minor": 2
}
